{
 "cells": [
  {
   "cell_type": "code",
   "execution_count": 3,
   "metadata": {},
   "outputs": [
    {
     "name": "stdout",
     "output_type": "stream",
     "text": [
      "8 36\n"
     ]
    }
   ],
   "source": [
    "''' 문제\n",
    "N개의 스티커가 원형으로 연결,\n",
    "[14, 6, 5, 11, 3, 9, 2, 10] -> 6 + 11 + 9 + 10 = 36\n",
    "[1, 3, 2, 5, 4] -> 3 + 5 = 8\n",
    "\n",
    "# 제한 사항\n",
    "sticker는 원형으로 연결된 스티커의 각 칸에 적힌 숫자가 순서대로 배열, 길이는 1 이상 100,000 이하\n",
    "각 칸의 숫자는 1 이상 100 이하의 자연수\n",
    "첫 번째 원소와 마지막 원소가 서로 연결\n",
    "'''\n",
    "\n",
    "### 내가 푼 것 ###\n",
    "# 넘나 길고, if랑 for문, 변수 남발... 흡\n",
    "from functools import reduce\n",
    "\n",
    "def solution(array_list):\n",
    "    sum_value = 0\n",
    "    even_end = len(array_list)-2\n",
    "    sum_num = []\n",
    "    sum_list = []\n",
    "    result = 0\n",
    "\n",
    "    for i in range(len(array_list)):\n",
    "        if array_list[i] != array_list[0]:\n",
    "            front_value = array_list[:i-1:]\n",
    "            del array_list[:i-1:]\n",
    "            array_list.extend(front_value)\n",
    "\n",
    "        if (len(array_list)-1) % 2 == 0:\n",
    "            sum_num = array_list[:even_end:2]\n",
    "            sum_value = reduce(lambda x, y: x+y, sum_num)\n",
    "        else:\n",
    "            sum_num = array_list[::2]\n",
    "            sum_value = reduce(lambda x, y: x+y, sum_num)\n",
    "        sum_list.append(sum_value)\n",
    "\n",
    "    for j in range(len(sum_list)):\n",
    "        if result < sum_list[j]:\n",
    "            result = sum_list[j]\n",
    "\n",
    "    return(result)\n",
    "\n",
    "array_list1 = [1, 3, 2, 5, 4]\n",
    "array_list2 = [14, 6, 5, 11, 3, 9, 2, 10]\n",
    "print(solution(array_list1), solution(array_list2))"
   ]
  },
  {
   "cell_type": "code",
   "execution_count": 6,
   "metadata": {},
   "outputs": [
    {
     "data": {
      "text/plain": [
       "[6, 11, 9, 10]"
      ]
     },
     "execution_count": 6,
     "metadata": {},
     "output_type": "execute_result"
    }
   ],
   "source": [
    "### 다른 사람 풀이 ###\n",
    "# 넘나 짧고 간단하고 보기도 좋고... 리스펙트ㅠ0ㅠ\n",
    "def get_max_sum(num_list):    \n",
    "    return max([x for x in num_list[:-1:2]], [x for x in num_list[1::2]], key=sum)\n",
    "\n",
    "num_list = [14, 6, 5, 11, 3, 9, 2, 10]\n",
    "get_max_sum(num_list)"
   ]
  }
 ],
 "metadata": {
  "kernelspec": {
   "display_name": "Python 3",
   "language": "python",
   "name": "python3"
  },
  "language_info": {
   "codemirror_mode": {
    "name": "ipython",
    "version": 3
   },
   "file_extension": ".py",
   "mimetype": "text/x-python",
   "name": "python",
   "nbconvert_exporter": "python",
   "pygments_lexer": "ipython3",
   "version": "3.4.3"
  }
 },
 "nbformat": 4,
 "nbformat_minor": 2
}
