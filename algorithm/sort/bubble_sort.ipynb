{
 "cells": [
  {
   "cell_type": "code",
   "execution_count": 3,
   "metadata": {},
   "outputs": [
    {
     "data": {
      "text/plain": [
       "[3, 5, 7, 14, 32, 33, 42, 43]"
      ]
     },
     "execution_count": 3,
     "metadata": {},
     "output_type": "execute_result"
    }
   ],
   "source": [
    "bubble_list = [3, 43, 5, 42, 32, 7, 14, 33]\n",
    "\n",
    "def bubble_sort(bubble_list):\n",
    "    for i in range(len(bubble_list)):\n",
    "        for j in range(len(bubble_list)):\n",
    "            if bubble_list[i] < bubble_list[j]:\n",
    "                bubble_list[i], bubble_list[j] = bubble_list[j], bubble_list[i] \n",
    "    return bubble_list\n",
    "\n",
    "bubble_sort(bubble_list)"
   ]
  },
  {
   "cell_type": "code",
   "execution_count": 3,
   "metadata": {},
   "outputs": [
    {
     "data": {
      "text/plain": [
       "[3, 5, 7, 14, 32, 33, 42, 43]"
      ]
     },
     "execution_count": 3,
     "metadata": {},
     "output_type": "execute_result"
    }
   ],
   "source": [
    "data = [3, 43, 5, 42, 32, 7, 14, 33]\n",
    "\n",
    "def bubbleSort(data):\n",
    "    for i in range(len(data)-1):\n",
    "        for j in range(len(data)-1-i):\n",
    "            if data[j] > data[j+1]:\n",
    "                data[j], data[j+1] = data[j+1], data[j]\n",
    "    return data\n",
    "\n",
    "bubbleSort(data)"
   ]
  },
  {
   "cell_type": "code",
   "execution_count": null,
   "metadata": {
    "collapsed": true
   },
   "outputs": [],
   "source": []
  }
 ],
 "metadata": {
  "kernelspec": {
   "display_name": "Python 3",
   "language": "python",
   "name": "python3"
  },
  "language_info": {
   "codemirror_mode": {
    "name": "ipython",
    "version": 3
   },
   "file_extension": ".py",
   "mimetype": "text/x-python",
   "name": "python",
   "nbconvert_exporter": "python",
   "pygments_lexer": "ipython3",
   "version": "3.4.3"
  }
 },
 "nbformat": 4,
 "nbformat_minor": 2
}
